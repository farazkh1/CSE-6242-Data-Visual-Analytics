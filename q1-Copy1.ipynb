{
 "cells": [
  {
   "cell_type": "markdown",
   "metadata": {},
   "source": [
    "# CSE6242 - HW3 - Q1"
   ]
  },
  {
   "cell_type": "markdown",
   "metadata": {},
   "source": [
    "<div class=\"alert alert-block alert-danger\">\n",
    "    WARNING: Do <strong>NOT</strong> remove any comment that says \"#export\" because that will crash the autograder in Gradescope. We use this comment to export your code in these cells for grading.\n",
    "</div>"
   ]
  },
  {
   "cell_type": "markdown",
   "metadata": {},
   "source": [
    "Pyspark Imports"
   ]
  },
  {
   "cell_type": "code",
   "execution_count": null,
   "metadata": {},
   "outputs": [],
   "source": [
    "#export\n",
    "### DO NOT MODIFY THIS CELL ###\n",
    "import pyspark\n",
    "from pyspark.sql import SQLContext\n",
    "from pyspark.sql.functions import hour, when, col, date_format, to_timestamp, ceil, coalesce"
   ]
  },
  {
   "cell_type": "markdown",
   "metadata": {},
   "source": [
    "Initialize PySpark Context"
   ]
  },
  {
   "cell_type": "code",
   "execution_count": null,
   "metadata": {},
   "outputs": [],
   "source": [
    "### DO NOT MODIFY THIS CELL ###\n",
    "sc = pyspark.SparkContext(appName=\"HW3-Q1\")\n",
    "sqlContext = SQLContext(sc)"
   ]
  },
  {
   "cell_type": "markdown",
   "metadata": {},
   "source": [
    "Define function for loading data"
   ]
  },
  {
   "cell_type": "code",
   "execution_count": 1,
   "metadata": {},
   "outputs": [],
   "source": [
    "### DO NOT MODIFY THIS CELL ###\n",
    "def load_data():\n",
    "    df = sqlContext.read.option(\"header\",True) \\\n",
    "     .csv(\"yellow_tripdata_2019-01_short.csv\")\n",
    "    return df"
   ]
  },
  {
   "cell_type": "markdown",
   "metadata": {},
   "source": [
    "### Q1.1"
   ]
  },
  {
   "cell_type": "markdown",
   "metadata": {},
   "source": [
    "Perform data casting to clean incoming dataset"
   ]
  },
  {
   "cell_type": "code",
   "execution_count": 1,
   "metadata": {},
   "outputs": [],
   "source": [
    "#export\n",
    "def clean_data(df):\n",
    "    '''\n",
    "    input: df a dataframe\n",
    "    output: df a dataframe with the all the original columns\n",
    "    '''\n",
    "    \n",
    "    # START YOUR CODE HERE ---------\n",
    "    df = df.withColumn('passenger_count', col('passenger_count').cast('int'))\n",
    "    df = df.withColumn('total_amount', col('total_amount').cast('float'))\n",
    "    df = df.withColumn('tip_amount', col('tip_amount').cast('float'))\n",
    "    df = df.withColumn('trip_distance', col('trip_distance').cast('float'))\n",
    "    df = df.withColumn('fare_amount', col('fare_amount').cast('float'))\n",
    "    df = df.withColumn('tpep_pickup_datetime', col('tpep_pickup_datetime').cast('timestamp'))\n",
    "    df = df.withColumn('tpep_dropoff_datetime', col('tpep_dropoff_datetime').cast('timestamp'))\n",
    "    # END YOUR CODE HERE -----------\n",
    "    \n",
    "    return df"
   ]
  },
  {
   "cell_type": "markdown",
   "metadata": {},
   "source": [
    "### Q1.2"
   ]
  },
  {
   "cell_type": "markdown",
   "metadata": {},
   "source": [
    "Find rate per person for based on how many passengers travel between pickup and dropoff locations. "
   ]
  },
  {
   "cell_type": "code",
   "execution_count": null,
   "metadata": {},
   "outputs": [],
   "source": [
    "#export\n",
    "def common_pair(df):\n",
    "    '''\n",
    "    input: df a dataframe\n",
    "    output: df a dataframe with following columns:\n",
    "            - PULocationID\n",
    "            - DOLocationID\n",
    "            - total_passenger_count\n",
    "            - per_person_rate\n",
    "            \n",
    "    per_person_rate is the total_amount per person for a given pair.\n",
    "    \n",
    "    '''\n",
    "    \n",
    "    # START YOUR CODE HERE ---------\n",
    "    df = df.filter(col(\"PULocationID\") != col(\"DOLocationID\"))\n",
    "    df = df.groupBy(\"PULocationID\", \"DOLocationID\").agg({\n",
    "        \"passenger_count\": \"sum\",\n",
    "        \"total_amount\": \"sum\"\n",
    "    })\n",
    "    df = df.withColumnRenamed(\"sum(passenger_count)\", \"total_passenger_count\") \\\n",
    "           .withColumnRenamed(\"sum(total_amount)\", \"sum_total_amount\")\n",
    "    df = df.withColumn(\"per_person_rate\", col(\"sum_total_amount\") / col(\"total_passenger_count\"))\n",
    "    df = df.orderBy(col(\"total_passenger_count\").desc(), col(\"per_person_rate\").desc())\n",
    "    df = df.select(\"PULocationID\", \"DOLocationID\", \"total_passenger_count\", \"per_person_rate\").limit(10)\n",
    "    # END YOUR CODE HERE -----------\n",
    "    \n",
    "    return df"
   ]
  },
  {
   "cell_type": "markdown",
   "metadata": {},
   "source": [
    "### Q1.3"
   ]
  },
  {
   "cell_type": "markdown",
   "metadata": {},
   "source": [
    "Find trips which trip distances generate the highest tip percentage."
   ]
  },
  {
   "cell_type": "code",
   "execution_count": null,
   "metadata": {},
   "outputs": [],
   "source": [
    "#export\n",
    "def distance_with_most_tip(df):\n",
    "    '''\n",
    "    input: df a dataframe\n",
    "    output: df a dataframe with following columns:\n",
    "            - trip_distance\n",
    "            - tip_percent\n",
    "            \n",
    "    trip_percent is the percent of tip out of fare_amount\n",
    "    \n",
    "    '''\n",
    "    \n",
    "    # START YOUR CODE HERE ---------\n",
    "    df = df.filter(col(\"fare_amount\") > 2.00)\n",
    "    df = df.filter(col(\"trip_distance\") > 0)\n",
    "    df = df.withColumn(\"tip_percent_calc\", (col(\"tip_amount\") * 100) / col(\"fare_amount\"))\n",
    "    df = df.withColumn(\"rounded_distance\", ceil(col(\"trip_distance\")))\n",
    "    df = df.groupBy(\"rounded_distance\").agg({\"tip_percent_calc\": \"avg\"})\n",
    "    df = df.withColumnRenamed(\"rounded_distance\", \"trip_distance\") \\\n",
    "           .withColumnRenamed(\"avg(tip_percent_calc)\", \"tip_percent\")\n",
    "    df = df.select(\"trip_distance\", \"tip_percent\").orderBy(col(\"tip_percent\").desc()).limit(15)\n",
    "    # END YOUR CODE HERE -----------\n",
    "    \n",
    "    return df"
   ]
  },
  {
   "cell_type": "markdown",
   "metadata": {},
   "source": [
    "### Q1.4"
   ]
  },
  {
   "cell_type": "markdown",
   "metadata": {},
   "source": [
    "Determine the average speed at different times of day."
   ]
  },
  {
   "cell_type": "code",
   "execution_count": null,
   "metadata": {},
   "outputs": [],
   "source": [
    "#export\n",
    "def time_with_most_traffic(df):\n",
    "    '''\n",
    "    input: df a dataframe\n",
    "    output: df a dataframe with following columns:\n",
    "            - time_of_day\n",
    "            - am_avg_speed\n",
    "            - pm_avg_speed\n",
    "            \n",
    "    am_avg_speed and pm_avg_speed are the average trip distance / average trip time calculated for each hour\n",
    "    \n",
    "    '''\n",
    "    \n",
    "    # START YOUR CODE HERE ---------\n",
    "    df = df.withColumn(\"hour\", hour(col(\"pickup_datetime\")))\n",
    "    df = df.withColumn(\"duration_hours\", \n",
    "                       (unix_timestamp(col(\"dropoff_datetime\")) - unix_timestamp(col(\"pickup_datetime\"))) / 3600.0)\n",
    "    \n",
    "    df = df.filter((col(\"duration_hours\") > 0) & (col(\"trip_distance\") > 0))\n",
    "    \n",
    "    am_speeds = df.filter(col(\"hour\") < 12) \\\n",
    "        .groupBy(col(\"hour\").alias(\"hour_am\")) \\\n",
    "        .agg(\n",
    "            avg(\"trip_distance\").alias(\"avg_distance_am\"),\n",
    "            avg(\"duration_hours\").alias(\"avg_duration_am\")\n",
    "        ) \\\n",
    "        .withColumn(\"am_avg_speed\", col(\"avg_distance_am\") / col(\"avg_duration_am\"))\n",
    "\n",
    "    pm_speeds = df.filter(col(\"hour\") >= 12) \\\n",
    "        .withColumn(\"hour_pm\", col(\"hour\") - 12) \\\n",
    "        .groupBy(\"hour_pm\") \\\n",
    "        .agg(\n",
    "            avg(\"trip_distance\").alias(\"avg_distance_pm\"),\n",
    "            avg(\"duration_hours\").alias(\"avg_duration_pm\")\n",
    "        ) \\\n",
    "        .withColumn(\"pm_avg_speed\", col(\"avg_distance_pm\") / col(\"avg_duration_pm\"))\n",
    "\n",
    "    result = am_speeds.select(\n",
    "        col(\"hour_am\").alias(\"hour\"),\n",
    "        col(\"am_avg_speed\")\n",
    "    ).join(\n",
    "        pm_speeds.select(\n",
    "            col(\"hour_pm\").alias(\"hour\"),\n",
    "            col(\"pm_avg_speed\")\n",
    "        ),\n",
    "        \"hour\",\n",
    "        \"outer\"\n",
    "    )\n",
    "\n",
    "    result = result.withColumn(\"time_of_day\", \n",
    "        date_format(\n",
    "            to_timestamp(concat(lpad(col(\"hour\"), 2, \"0\"), lit(\":00:00\")), \"HH:mm:ss\"),\n",
    "            \"h\"\n",
    "        )\n",
    "    )\n",
    "\n",
    "    df = result.select(\n",
    "        \"time_of_day\",\n",
    "        \"am_avg_speed\",\n",
    "        \"pm_avg_speed\"\n",
    "    ).orderBy(\"hour\")\n",
    "        # END YOUR CODE HERE -----------\n",
    "\n",
    "    return df"
   ]
  },
  {
   "cell_type": "markdown",
   "metadata": {},
   "source": [
    "## The below cells are for you to investigate your solutions and will not be graded"
   ]
  },
  {
   "cell_type": "code",
   "execution_count": null,
   "metadata": {},
   "outputs": [],
   "source": [
    "df = load_data()\n",
    "df = clean_data(df)"
   ]
  },
  {
   "cell_type": "code",
   "execution_count": null,
   "metadata": {},
   "outputs": [],
   "source": [
    "common_pair(df).show()"
   ]
  },
  {
   "cell_type": "code",
   "execution_count": null,
   "metadata": {},
   "outputs": [],
   "source": [
    "distance_with_most_tip(df).show()"
   ]
  },
  {
   "cell_type": "code",
   "execution_count": null,
   "metadata": {},
   "outputs": [],
   "source": [
    "time_with_most_traffic(df).show()"
   ]
  }
 ],
 "metadata": {
  "kernelspec": {
   "display_name": "Python 3",
   "language": "python",
   "name": "python3"
  },
  "language_info": {
   "codemirror_mode": {
    "name": "ipython",
    "version": 3
   },
   "file_extension": ".py",
   "mimetype": "text/x-python",
   "name": "python",
   "nbconvert_exporter": "python",
   "pygments_lexer": "ipython3",
   "version": "3.6.9"
  }
 },
 "nbformat": 4,
 "nbformat_minor": 5
}
